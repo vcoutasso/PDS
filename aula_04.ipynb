{
 "cells": [
  {
   "cell_type": "code",
   "execution_count": 1,
   "id": "3eb7f1f8",
   "metadata": {},
   "outputs": [],
   "source": [
    "import matplotlib.pyplot as plt\n",
    "import numpy as np\n",
    "import pds"
   ]
  },
  {
   "cell_type": "code",
   "execution_count": 2,
   "id": "84f6235a",
   "metadata": {},
   "outputs": [
    {
     "data": {
      "image/png": "[encoded data removed]",
      "text/plain": [
       "<Figure size 432x288 with 1 Axes>"
      ]
     },
     "metadata": {
      "needs_background": "light"
     },
     "output_type": "display_data"
    }
   ],
   "source": [
    "# Oscilador\n",
    "\n",
    "w0 = 2 * np.pi / 20 # rad/amostras\n",
    "n = np.arange(-5, 30)\n",
    "x = pds.delta(n)\n",
    "b = np.array([0, np.sin(w0)])\n",
    "a = np.array([1, -2*np.cos(w0), 1])\n",
    "h = pds.lfilter(b, a, x)\n",
    "\n",
    "plt.stem(n, h);"
   ]
  },
  {
   "cell_type": "code",
   "execution_count": 3,
   "id": "412dec99",
   "metadata": {},
   "outputs": [
    {
     "data": {
      "text/plain": [
       "3.0793067631635462e-30"
      ]
     },
     "execution_count": 3,
     "metadata": {},
     "output_type": "execute_result"
    }
   ],
   "source": [
    "y = np.sin(w0 * n) * pds.u(n)\n",
    "\n",
    "pds.mse(y, h)"
   ]
  },
  {
   "cell_type": "markdown",
   "id": "f3b1440c",
   "metadata": {},
   "source": [
    "## Verificacao por respostas aos impulsos"
   ]
  },
  {
   "cell_type": "code",
   "execution_count": 4,
   "id": "36a1344d",
   "metadata": {},
   "outputs": [],
   "source": [
    "n = np.arange(-5, 30)\n",
    "x = pds.delta(n)"
   ]
  },
  {
   "cell_type": "markdown",
   "id": "f705e080",
   "metadata": {},
   "source": [
    "### 1\n",
    "\n",
    "Polos = ±2 j\n",
    "\n",
    "Zeros = 0; 1"
   ]
  },
  {
   "cell_type": "code",
   "execution_count": 5,
   "id": "5b103a73",
   "metadata": {},
   "outputs": [
    {
     "name": "stdout",
     "output_type": "stream",
     "text": [
      "Polos: [-0.+2.j  0.-2.j]\n",
      "Zeros: [1. 0.]\n"
     ]
    }
   ],
   "source": [
    "a1 = np.array([1, 0, 4], dtype=np.float64)\n",
    "b1 = np.array([1, -1, 0], dtype=np.float64)\n",
    "\n",
    "print(\"Polos:\", np.roots(a1))\n",
    "print(\"Zeros:\", np.roots(b1))"
   ]
  },
  {
   "cell_type": "code",
   "execution_count": 6,
   "id": "cc21872f",
   "metadata": {},
   "outputs": [
    {
     "data": {
      "image/png": "[encoded data removed]",
      "text/plain": [
       "<Figure size 432x288 with 1 Axes>"
      ]
     },
     "metadata": {
      "needs_background": "light"
     },
     "output_type": "display_data"
    }
   ],
   "source": [
    "h1 = pds.lfilter(b1, a1, x)\n",
    "\n",
    "plt.stem(n, h1);"
   ]
  },
  {
   "cell_type": "markdown",
   "id": "d6174097",
   "metadata": {},
   "source": [
    "### 2\n",
    "\n",
    "Polos = 0\n",
    "\n",
    "Zeros = ± j"
   ]
  },
  {
   "cell_type": "code",
   "execution_count": 7,
   "id": "e834988c",
   "metadata": {},
   "outputs": [
    {
     "name": "stdout",
     "output_type": "stream",
     "text": [
      "Polos: []\n",
      "Zeros: [-0.+1.j  0.-1.j]\n"
     ]
    }
   ],
   "source": [
    "a2 = np.array([1], dtype=np.float64)\n",
    "b2 = np.array([1, 0, 1], dtype=np.float64)\n",
    "\n",
    "print(\"Polos:\", np.roots(a2))\n",
    "print(\"Zeros:\", np.roots(b2))"
   ]
  },
  {
   "cell_type": "code",
   "execution_count": 8,
   "id": "a8dc4e88",
   "metadata": {},
   "outputs": [
    {
     "data": {
      "image/png": "[encoded data removed]",
      "text/plain": [
       "<Figure size 432x288 with 1 Axes>"
      ]
     },
     "metadata": {
      "needs_background": "light"
     },
     "output_type": "display_data"
    }
   ],
   "source": [
    "h2 = pds.lfilter(b2, a2, x)\n",
    "\n",
    "plt.stem(n, h2);"
   ]
  },
  {
   "cell_type": "markdown",
   "id": "28dea034",
   "metadata": {},
   "source": [
    "### 3\n",
    "\n",
    "Polos = 1/2\n",
    "\n",
    "Zeros = ±1/2 "
   ]
  },
  {
   "cell_type": "code",
   "execution_count": 9,
   "id": "ce5f0e7a",
   "metadata": {},
   "outputs": [
    {
     "name": "stdout",
     "output_type": "stream",
     "text": [
      "Polos: [0.5]\n",
      "Zeros: [-0.5  0.5]\n"
     ]
    }
   ],
   "source": [
    "a3 = np.array([1, -1/2.])\n",
    "b3 = np.array([1, 0, -1/4.])\n",
    "\n",
    "print(\"Polos:\", np.roots(a3))\n",
    "print(\"Zeros:\", np.roots(b3))"
   ]
  },
  {
   "cell_type": "code",
   "execution_count": 10,
   "id": "0d03b2b9",
   "metadata": {},
   "outputs": [
    {
     "data": {
      "image/png": "[encoded data removed]",
      "text/plain": [
       "<Figure size 432x288 with 1 Axes>"
      ]
     },
     "metadata": {
      "needs_background": "light"
     },
     "output_type": "display_data"
    }
   ],
   "source": [
    "h3 = pds.lfilter(b3, a3, x)\n",
    "\n",
    "plt.stem(n, h3);"
   ]
  },
  {
   "cell_type": "code",
   "execution_count": 11,
   "id": "ff1da4b6",
   "metadata": {},
   "outputs": [
    {
     "data": {
      "text/html": [
       "<div>\n",
       "<style scoped>\n",
       "    .dataframe tbody tr th:only-of-type {\n",
       "        vertical-align: middle;\n",
       "    }\n",
       "\n",
       "    .dataframe tbody tr th {\n",
       "        vertical-align: top;\n",
       "    }\n",
       "\n",
       "    .dataframe thead th {\n",
       "        text-align: right;\n",
       "    }\n",
       "</style>\n",
       "<table border=\"1\" class=\"dataframe\">\n",
       "  <thead>\n",
       "    <tr style=\"text-align: right;\">\n",
       "      <th></th>\n",
       "      <th>Polos</th>\n",
       "      <th>Zeros</th>\n",
       "      <th>FIR/IIR?</th>\n",
       "      <th>Recursivo?</th>\n",
       "      <th>Causal?</th>\n",
       "      <th>Estável?</th>\n",
       "    </tr>\n",
       "  </thead>\n",
       "  <tbody>\n",
       "    <tr>\n",
       "      <th>H0(z)</th>\n",
       "      <td>[(-0+2j), -2j]</td>\n",
       "      <td>[1.0, 0.0]</td>\n",
       "      <td>IIR</td>\n",
       "      <td>Sim</td>\n",
       "      <td>Sim</td>\n",
       "      <td>Não</td>\n",
       "    </tr>\n",
       "    <tr>\n",
       "      <th>H1(z)</th>\n",
       "      <td>[]</td>\n",
       "      <td>[(-0+1j), -1j]</td>\n",
       "      <td>FIR</td>\n",
       "      <td>Não</td>\n",
       "      <td>Não</td>\n",
       "      <td>Sim</td>\n",
       "    </tr>\n",
       "    <tr>\n",
       "      <th>H2(z)</th>\n",
       "      <td>[]</td>\n",
       "      <td>[-0.5]</td>\n",
       "      <td>FIR</td>\n",
       "      <td>Sim</td>\n",
       "      <td>Não</td>\n",
       "      <td>Sim</td>\n",
       "    </tr>\n",
       "  </tbody>\n",
       "</table>\n",
       "</div>"
      ],
      "text/plain": [
       "                Polos           Zeros FIR/IIR? Recursivo? Causal? Estável?\n",
       "H0(z)  [(-0+2j), -2j]      [1.0, 0.0]      IIR        Sim     Sim      Não\n",
       "H1(z)              []  [(-0+1j), -1j]      FIR        Não     Não      Sim\n",
       "H2(z)              []          [-0.5]      FIR        Sim     Não      Sim"
      ]
     },
     "execution_count": 11,
     "metadata": {},
     "output_type": "execute_result"
    }
   ],
   "source": [
    "import pds.system\n",
    "import pandas as pd\n",
    "\n",
    "systems = [(a1, b1), (a2, b2), (a3, b3)]\n",
    "\n",
    "systems_table = {}\n",
    "\n",
    "for i, (a, b) in enumerate(systems):\n",
    "    properties = pds.system.classification(a, b)\n",
    "    systems_table['H{}(z)'.format(i)] = properties\n",
    "\n",
    "df = pd.DataFrame.from_dict(systems_table, orient='index')\n",
    "df['Polos'] = df['Polos'].apply(np.round, args=(3,))\n",
    "df['Zeros'] = df['Zeros'].apply(np.round, args=(3,))\n",
    "\n",
    "df"
   ]
  }
 ],
 "metadata": {
  "kernelspec": {
   "display_name": "Python 3 (ipykernel)",
   "language": "python",
   "name": "python3"
  },
  "language_info": {
   "codemirror_mode": {
    "name": "ipython",
    "version": 3
   },
   "file_extension": ".py",
   "mimetype": "text/x-python",
   "name": "python",
   "nbconvert_exporter": "python",
   "pygments_lexer": "ipython3",
   "version": "3.10.3"
  }
 },
 "nbformat": 4,
 "nbformat_minor": 5
}
