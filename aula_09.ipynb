{
 "cells": [
  {
   "cell_type": "code",
   "execution_count": 1,
   "id": "55bce269",
   "metadata": {
    "scrolled": true
   },
   "outputs": [
    {
     "name": "stdout",
     "output_type": "stream",
     "text": [
      "[ 6.+0.00e+00j -2.+2.00e+00j -2.-7.35e-16j -2.-2.00e+00j]\n",
      "[0. 1. 2. 3.]\n"
     ]
    }
   ],
   "source": [
    "import numpy as np\n",
    "import pds\n",
    "\n",
    "x1 = np.array([0, 1, 2, 3])\n",
    "X1 = pds.dft(x1)\n",
    "print(np.array2string(X1, precision=2))\n",
    "\n",
    "x1_ = pds.idft(X1)\n",
    "print(np.round(np.real(x1_)))"
   ]
  },
  {
   "cell_type": "code",
   "execution_count": 2,
   "id": "7e84c5e5",
   "metadata": {},
   "outputs": [
    {
     "name": "stdout",
     "output_type": "stream",
     "text": [
      "[ 4.00e+01+0.00e+00j -5.77e-15-3.11e-15j  8.00e+00+1.78e-15j\n",
      " -4.00e-15-9.33e-15j  0.00e+00-1.24e-14j  9.77e-15-1.55e-14j\n",
      "  8.00e+00+1.78e-15j  3.02e-14-2.18e-14j]\n"
     ]
    }
   ],
   "source": [
    "N = 8\n",
    "n = np.arange(N)\n",
    "x2 = 5 + 2*np.cos(np.pi/2*n)\n",
    "X2 = pds.dft(x2)\n",
    "print(np.array2string(X2, precision=2))"
   ]
  },
  {
   "cell_type": "code",
   "execution_count": 3,
   "id": "cba76f24",
   "metadata": {},
   "outputs": [
    {
     "name": "stdout",
     "output_type": "stream",
     "text": [
      "[ 1.20e+01+0.00e+00j -8.88e-15+0.00e+00j  1.80e+01+9.99e-15j\n",
      " -1.78e-14-8.88e-15j -7.99e-15-1.38e-14j  1.42e-14-6.00e+00j\n",
      "  4.44e-15-9.87e-16j -1.95e-14+6.00e+00j  1.02e-14-2.64e-14j\n",
      "  2.80e-14-3.02e-14j  1.80e+01+7.86e-14j -2.22e-14-4.26e-14j]\n"
     ]
    }
   ],
   "source": [
    "N = 12\n",
    "n = np.arange(N)\n",
    "x3 = 1 + 3 * np.cos(n * np.pi / 3) + np.sin(n * 5 * np.pi / 6)\n",
    "X3 = pds.dft(x3)\n",
    "print(np.array2string(X3, precision=2))"
   ]
  }
 ],
 "metadata": {
  "kernelspec": {
   "display_name": "Python 3 (ipykernel)",
   "language": "python",
   "name": "python3"
  },
  "language_info": {
   "codemirror_mode": {
    "name": "ipython",
    "version": 3
   },
   "file_extension": ".py",
   "mimetype": "text/x-python",
   "name": "python",
   "nbconvert_exporter": "python",
   "pygments_lexer": "ipython3",
   "version": "3.10.3"
  }
 },
 "nbformat": 4,
 "nbformat_minor": 5
}
