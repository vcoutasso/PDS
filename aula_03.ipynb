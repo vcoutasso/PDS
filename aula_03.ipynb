{
 "cells": [
  {
   "cell_type": "code",
   "execution_count": 1,
   "id": "32a2b74c",
   "metadata": {},
   "outputs": [],
   "source": [
    "import matplotlib.pyplot as plt\n",
    "import sounddevice as sd\n",
    "import numpy as np\n",
    "import pds"
   ]
  },
  {
   "cell_type": "code",
   "execution_count": 2,
   "id": "70f00b1c",
   "metadata": {},
   "outputs": [],
   "source": [
    "fs = 8192\n",
    "sample = np.load('data/123test.npy')\n",
    "sd.play(sample, fs, blocking=True)"
   ]
  },
  {
   "cell_type": "code",
   "execution_count": 3,
   "id": "8adb696c",
   "metadata": {},
   "outputs": [],
   "source": [
    "alpha = .5\n",
    "tau = 500e-3\n",
    "D = round(fs * tau)\n",
    "b = np.array([1])\n",
    "a = np.zeros(D+1)\n",
    "a[0] = 1\n",
    "a[-1] = alpha\n",
    "\n",
    "y = pds.lfilter(b, a, sample)"
   ]
  },
  {
   "cell_type": "code",
   "execution_count": 4,
   "id": "c77a3242",
   "metadata": {},
   "outputs": [],
   "source": [
    "sd.play(y, fs, blocking=True)"
   ]
  }
 ],
 "metadata": {
  "kernelspec": {
   "display_name": "Python 3 (ipykernel)",
   "language": "python",
   "name": "python3"
  },
  "language_info": {
   "codemirror_mode": {
    "name": "ipython",
    "version": 3
   },
   "file_extension": ".py",
   "mimetype": "text/x-python",
   "name": "python",
   "nbconvert_exporter": "python",
   "pygments_lexer": "ipython3",
   "version": "3.10.3"
  }
 },
 "nbformat": 4,
 "nbformat_minor": 5
}
