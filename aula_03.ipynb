{
 "cells": [
  {
   "cell_type": "code",
   "execution_count": 4,
   "id": "32a2b74c",
   "metadata": {},
   "outputs": [],
   "source": [
    "import matplotlib.pyplot as plt\n",
    "import sounddevice as sd\n",
    "import numpy as np\n",
    "import pds"
   ]
  },
  {
   "cell_type": "code",
   "execution_count": 5,
   "id": "70f00b1c",
   "metadata": {},
   "outputs": [],
   "source": [
    "fs = 8192\n",
    "sample_duration = 5\n",
    "#sample = sd.rec(int(sample_duration * fs), samplerate=fs, channels=2, blocking=True)\n",
    "sample = np.load('/home/vcouto/Downloads/123test.npy')"
   ]
  },
  {
   "cell_type": "code",
   "execution_count": 6,
   "id": "8adb696c",
   "metadata": {},
   "outputs": [
    {
     "ename": "AttributeError",
     "evalue": "module 'pds' has no attribute 'lfilter'",
     "output_type": "error",
     "traceback": [
      "\u001b[0;31m---------------------------------------------------------------------------\u001b[0m",
      "\u001b[0;31mAttributeError\u001b[0m                            Traceback (most recent call last)",
      "Input \u001b[0;32mIn [6]\u001b[0m, in \u001b[0;36m<cell line: 9>\u001b[0;34m()\u001b[0m\n\u001b[1;32m      6\u001b[0m a[\u001b[38;5;241m0\u001b[39m] \u001b[38;5;241m=\u001b[39m \u001b[38;5;241m1\u001b[39m\n\u001b[1;32m      7\u001b[0m a[\u001b[38;5;241m-\u001b[39m\u001b[38;5;241m1\u001b[39m] \u001b[38;5;241m=\u001b[39m alpha\n\u001b[0;32m----> 9\u001b[0m y \u001b[38;5;241m=\u001b[39m \u001b[43mpds\u001b[49m\u001b[38;5;241;43m.\u001b[39;49m\u001b[43mlfilter\u001b[49m(b, a, sample)\n",
      "\u001b[0;31mAttributeError\u001b[0m: module 'pds' has no attribute 'lfilter'"
     ]
    }
   ],
   "source": [
    "alpha = .5\n",
    "tau = 500e-3\n",
    "D = round(fs * tau)\n",
    "b = np.array([1])\n",
    "a = np.zeros(D+1)\n",
    "a[0] = 1\n",
    "a[-1] = alpha\n",
    "\n",
    "y = pds.lfilter(b, a, sample)"
   ]
  },
  {
   "cell_type": "code",
   "execution_count": 91,
   "id": "c77a3242",
   "metadata": {},
   "outputs": [],
   "source": [
    "sd.play(y, fs, blocking=True)"
   ]
  }
 ],
 "metadata": {
  "kernelspec": {
   "display_name": "Python 3 (ipykernel)",
   "language": "python",
   "name": "python3"
  },
  "language_info": {
   "codemirror_mode": {
    "name": "ipython",
    "version": 3
   },
   "file_extension": ".py",
   "mimetype": "text/x-python",
   "name": "python",
   "nbconvert_exporter": "python",
   "pygments_lexer": "ipython3",
   "version": "3.10.3"
  }
 },
 "nbformat": 4,
 "nbformat_minor": 5
}
