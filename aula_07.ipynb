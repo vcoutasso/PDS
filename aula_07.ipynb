{
 "cells": [
  {
   "cell_type": "code",
   "execution_count": 1,
   "id": "933fce44",
   "metadata": {},
   "outputs": [
    {
     "data": {
      "text/plain": [
       "0.0001576391987598772"
      ]
     },
     "execution_count": 1,
     "metadata": {},
     "output_type": "execute_result"
    }
   ],
   "source": [
    "import sounddevice as sd\n",
    "import numpy as np\n",
    "import pds\n",
    "\n",
    "fs = 8192\n",
    "x_clean = np.load('data/123test.npy')\n",
    "x = np.load('data/123test_noise.npy')\n",
    "\n",
    "f0 = 1e3 \n",
    "w0 = 2 * np.pi * f0 / fs\n",
    "r = 0.9369586958695869\n",
    "\n",
    "y = pds.notch(x, w0, r)\n",
    "\n",
    "sd.play(y, fs, blocking=False)\n",
    "\n",
    "pds.mse(x_clean, y)"
   ]
  }
 ],
 "metadata": {
  "kernelspec": {
   "display_name": "Python 3 (ipykernel)",
   "language": "python",
   "name": "python3"
  },
  "language_info": {
   "codemirror_mode": {
    "name": "ipython",
    "version": 3
   },
   "file_extension": ".py",
   "mimetype": "text/x-python",
   "name": "python",
   "nbconvert_exporter": "python",
   "pygments_lexer": "ipython3",
   "version": "3.10.3"
  }
 },
 "nbformat": 4,
 "nbformat_minor": 5
}
