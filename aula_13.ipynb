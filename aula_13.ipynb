{
 "cells": [
  {
   "cell_type": "code",
   "execution_count": 12,
   "id": "b4250dc2",
   "metadata": {},
   "outputs": [],
   "source": [
    "import matplotlib.pyplot as plt\n",
    "from scipy import signal\n",
    "import numpy as np"
   ]
  },
  {
   "cell_type": "code",
   "execution_count": 16,
   "id": "f960e5f8",
   "metadata": {},
   "outputs": [
    {
     "data": {
      "image/png": "[encoded data removed]",
      "text/plain": [
       "<Figure size 432x288 with 1 Axes>"
      ]
     },
     "metadata": {
      "needs_background": "light"
     },
     "output_type": "display_data"
    }
   ],
   "source": [
    "A_s = 20 # Atenuacao\n",
    "O_s = 3\n",
    "A_p = 6 # Ripple\n",
    "O_p = 2\n",
    "\n",
    "alpha_s = np.sqrt(10**(A_s/10)-1)\n",
    "alpha_p = np.sqrt(10**(A_p/10)-1)\n",
    "\n",
    "N = np.ceil(np.log(alpha_s/alpha_p)/np.log(O_s/O_p))\n",
    "\n",
    "O_c = O_s/(alpha_s**(1/N))\n",
    "T = 1\n",
    "w_c = O_c * T\n",
    "\n",
    "\n",
    "b, a = signal.butter(N, w_c / np.pi)\n",
    "\n",
    "w, H = signal.freqz(b, a, 1024)\n",
    "Hdb = 20 * np.log10(np.abs(H))\n",
    "\n",
    "plt.plot(w, Hdb)\n",
    "plt.grid()"
   ]
  },
  {
   "cell_type": "code",
   "execution_count": null,
   "id": "2875bde2",
   "metadata": {},
   "outputs": [],
   "source": []
  }
 ],
 "metadata": {
  "kernelspec": {
   "display_name": "Python 3 (ipykernel)",
   "language": "python",
   "name": "python3"
  },
  "language_info": {
   "codemirror_mode": {
    "name": "ipython",
    "version": 3
   },
   "file_extension": ".py",
   "mimetype": "text/x-python",
   "name": "python",
   "nbconvert_exporter": "python",
   "pygments_lexer": "ipython3",
   "version": "3.10.3"
  }
 },
 "nbformat": 4,
 "nbformat_minor": 5
}
